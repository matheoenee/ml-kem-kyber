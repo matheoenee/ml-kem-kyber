{
 "cells": [
  {
   "cell_type": "markdown",
   "metadata": {},
   "source": [
    "# ML-KEM (FIPS 203)\n",
    "\n",
    "Implementation of ML-KEM in Python (we will considre ML-KEM-512 parameters)"
   ]
  },
  {
   "cell_type": "code",
   "execution_count": null,
   "metadata": {},
   "outputs": [],
   "source": [
    "n = 256\n",
    "q = 3329\n",
    "k = 2\n",
    "eta1 = 3\n",
    "eta2 = 2\n",
    "du = 10\n",
    "dv = 4"
   ]
  },
  {
   "cell_type": "markdown",
   "metadata": {},
   "source": [
    "## Auxiliary Algorithms"
   ]
  },
  {
   "cell_type": "markdown",
   "metadata": {},
   "source": [
    "### Cryptographic Functions"
   ]
  },
  {
   "cell_type": "markdown",
   "metadata": {},
   "source": [
    "Implementation of pseudorandom function $\\texttt{PRF}$ and hash functions $\\texttt{H}$, $\\texttt{J}$ and $\\texttt{G}$."
   ]
  },
  {
   "cell_type": "code",
   "execution_count": 1,
   "metadata": {},
   "outputs": [
    {
     "data": {
      "text/plain": [
       "b'&\\x1d.\\xbe\\xb8\\xec]\\xe9\\x8a\\x0f\\x08\\xb7\\xb6f0t8\\xec\\x89W \\x98\\x17\\x02\\x9azv}1A\\xc0\\xf4'"
      ]
     },
     "execution_count": 1,
     "metadata": {},
     "output_type": "execute_result"
    }
   ],
   "source": [
    "import secrets\n",
    "\n",
    "d = 32  # Example byte length\n",
    "secrets.token_bytes(d)"
   ]
  },
  {
   "cell_type": "code",
   "execution_count": 955,
   "metadata": {},
   "outputs": [],
   "source": [
    "import hashlib\n",
    "\n",
    "def PRF(s, b, eta):\n",
    "    shake = hashlib.shake_256()\n",
    "    shake.update(s+b)\n",
    "    return shake.digest(64*eta)"
   ]
  },
  {
   "cell_type": "code",
   "execution_count": 956,
   "metadata": {},
   "outputs": [
    {
     "name": "stdout",
     "output_type": "stream",
     "text": [
      "192\n"
     ]
    }
   ],
   "source": [
    "import random\n",
    "\n",
    "s = random.randbytes(32)\n",
    "b = random.randbytes(1)\n",
    "\n",
    "r = PRF(s,b,eta1)\n",
    "print(len(r))"
   ]
  },
  {
   "cell_type": "code",
   "execution_count": 957,
   "metadata": {},
   "outputs": [],
   "source": [
    "def H(s):\n",
    "    return hashlib.sha3_256(s).digest()\n",
    "\n",
    "def J(s):\n",
    "    shake = hashlib.shake_256()\n",
    "    shake.update(s)\n",
    "    return shake.digest(32)\n",
    "\n",
    "def G(c):\n",
    "    d = hashlib.sha3_512(c).digest()\n",
    "    return d[:32], d[32:]"
   ]
  },
  {
   "cell_type": "code",
   "execution_count": 958,
   "metadata": {},
   "outputs": [
    {
     "name": "stdout",
     "output_type": "stream",
     "text": [
      "b'I\\x01\\xe6\\xf2k)\\xe5\\x04,\\xb1g\\x9c\\xa7\\xc76;j\\xe1\\xb4]\\x97\\x82\\r\\xba66H\\x88\\xf5\\x1d\\x87\\x8e'\n",
      "b'<\\xc5t\\xfd\\x18\\xce\\x19\\xec\\xf6x\\xcfx3[75\\xf7\\xf7\\xf4G\\x87 -\\xa1)\\x9d?8\\x1a1\\x14`'\n",
      "(b'\\x80\\xe9\\xebv\\x0f\\x95,\\x1f\\x83\\xd9Y\\x19\\xb1vY)\\xc07f*\\xa0\\x94\\xf5\\xd0\\x8a\\xd5\\xd0\\x90\\xa7C\\x91\"', b'*Z\\x17GS\\x7f\\xdb\\x9f]9\\xf7fg\\xe5B\\x0e;M\\x8d\\xef\\xba\\xa8\\x86\\x93\\x95\\x88>\\xadR\\x06\\xb8\\n')\n"
     ]
    }
   ],
   "source": [
    "print(H(s))\n",
    "print(J(s))\n",
    "print(G(s))"
   ]
  },
  {
   "cell_type": "markdown",
   "metadata": {},
   "source": [
    "### General Algorithms"
   ]
  },
  {
   "cell_type": "markdown",
   "metadata": {},
   "source": [
    "#### Conversion and Compression Algorithms\n",
    "\n",
    "Implementation of conversion and compression algorithms of Kyber such as $\\texttt{encode}$, $\\texttt{decode}$, $\\texttt{compress}$ and $\\texttt{decompress}$."
   ]
  },
  {
   "cell_type": "code",
   "execution_count": 959,
   "metadata": {},
   "outputs": [],
   "source": [
    "def compress(x, d):\n",
    "    return round((2**d/q) * x) % 2**d\n",
    "\n",
    "def decompress(y, d):\n",
    "    return round(q/2**d * y)"
   ]
  },
  {
   "cell_type": "code",
   "execution_count": 960,
   "metadata": {},
   "outputs": [
    {
     "name": "stdout",
     "output_type": "stream",
     "text": [
      "x = 2675 -  101001110011 [12]\n",
      "compress(x,11) = 1646 - 11001101110 [11]\n",
      "compress(x,10) = 823 - 1100110111 [10]\n",
      "compress(x,9) = 411 - 110011011 [9]\n",
      "compress(x,8) = 206 - 11001110 [8]\n",
      "compress(x,7) = 103 - 1100111 [7]\n",
      "compress(x,6) = 51 - 110011 [6]\n"
     ]
    }
   ],
   "source": [
    "x = 2675\n",
    "print(f\"x = {x} - \", bin(x)[2:], f\"[{len(bin(x)[2:])}]\")\n",
    "for d in range(11,5,-1):\n",
    "    cx = compress(x,d)\n",
    "    print(f\"compress(x,{d}) = {cx} -\", bin(cx)[2:], f\"[{len(bin(cx)[2:])}]\")"
   ]
  },
  {
   "cell_type": "code",
   "execution_count": 961,
   "metadata": {},
   "outputs": [
    {
     "name": "stdout",
     "output_type": "stream",
     "text": [
      "decompress(compress(x,11),11) = 2676 - 101001110100 [12]\n",
      "decompress(compress(x,10),10) = 2676 - 101001110100 [12]\n",
      "decompress(compress(x,9),9) = 2672 - 101001110000 [12]\n",
      "decompress(compress(x,8),8) = 2679 - 101001110111 [12]\n",
      "decompress(compress(x,7),7) = 2679 - 101001110111 [12]\n",
      "decompress(compress(x,6),6) = 2653 - 101001011101 [12]\n"
     ]
    }
   ],
   "source": [
    "for d in range(11,5,-1):\n",
    "    cx = compress(x,d)\n",
    "    dx = decompress(cx,d)\n",
    "    print(f\"decompress(compress(x,{d}),{d}) = {dx} -\", bin(dx)[2:], f\"[{len(bin(dx)[2:])}]\")"
   ]
  },
  {
   "cell_type": "code",
   "execution_count": 962,
   "metadata": {},
   "outputs": [],
   "source": [
    "import math\n",
    "\n",
    "def BitsToBytes(b):\n",
    "    l = int(len(b)/8)\n",
    "    B = [0] * l\n",
    "    for i in range(len(b)):\n",
    "        B[math.floor(i/8)] = B[math.floor(i/8)] + b[i]*2**(i%8)\n",
    "    return bytes(B)\n",
    "\n",
    "def BytesToBits(B):\n",
    "    B = list(B)\n",
    "    l = len(B)\n",
    "    C = list(B)\n",
    "    b = [0] * (l*8)\n",
    "    for i in range(l):\n",
    "        for j in range(8):\n",
    "            b[i*8 + j] = C[i] % 2\n",
    "            C[i] = math.floor(C[i]/2)  \n",
    "    return b\n",
    "    \n",
    "def ByteEncode(F, d):\n",
    "    b = [0] * (256 * d)\n",
    "    for i in range(256):\n",
    "        a = F[i]\n",
    "        for j in range(d):\n",
    "            b[i*d + j] = int(a % 2)\n",
    "            a = (a - b[i*d + j]) / 2  \n",
    "    B = BitsToBytes(b) \n",
    "    return B\n",
    "\n",
    "def ByteDecode(B, d):\n",
    "    m = q if d == 12 else 2**d\n",
    "    \n",
    "    b = BytesToBits(B)\n",
    "    F = [0] * 256\n",
    "    for i in range(256):\n",
    "        sum = 0\n",
    "        for j in range(d):\n",
    "            sum = sum + b[i*d + j] * 2**j % m\n",
    "        F[i] = int(sum)\n",
    "    return F"
   ]
  },
  {
   "cell_type": "code",
   "execution_count": 963,
   "metadata": {},
   "outputs": [
    {
     "name": "stdout",
     "output_type": "stream",
     "text": [
      "[1, 0, 0, 1, 1, 0, 0, 0, 1, 0, 1, 1, 1, 0, 1, 0, 0, 1, 0, 1, 1, 0, 0, 0, 0, 1, 1, 0, 0, 1, 1, 1, 0, 0, 0, 1, 1, 0, 1, 1, 0, 1, 0, 0, 0, 0, 1, 0, 0, 1, 0, 1, 1, 1, 1, 1, 0, 0, 1, 0, 1, 1, 1, 1, 0, 1, 0, 0, 1, 0, 0, 0, 1, 1, 0, 1, 0, 1, 0, 0, 0, 1, 1, 1, 1, 0, 0, 1, 1, 1, 0, 0, 0, 0, 0, 1, 0, 0, 1, 0, 0, 0, 0, 0, 1, 1, 0, 0, 0, 0, 1, 0, 0, 0, 0, 0, 1, 1, 1, 0, 1, 0, 0, 1, 1, 1, 0, 0, 1, 1, 0, 0, 0, 0, 0, 1, 1, 0, 0, 1, 1, 1, 1, 0, 0, 0, 1, 0, 0, 1, 0, 1, 1, 0, 0, 0, 0, 0, 1, 1, 1, 1, 1, 0, 0, 0, 0, 0, 1, 0, 1, 0, 0, 0, 1, 0, 1, 1, 0, 0, 0, 0, 0, 0, 1, 0, 1, 0, 0, 1, 0, 1, 0, 1, 1, 0, 1, 0, 1, 0, 0, 1, 0, 1, 1, 0, 1, 1, 0, 0, 1, 0, 0, 1, 0, 1, 1, 0, 0, 0, 0, 1, 1, 0, 0, 1, 1, 0, 1, 1, 0, 0, 0, 0, 1, 0, 1, 1, 0, 0, 1, 1, 0, 1, 1, 1, 1, 1, 1, 1, 0, 0, 1, 0, 0, 0]\n",
      "b'\\x19]\\x1a\\xe6\\xd8B\\xfa\\xf4\\x12+\\x9e\\x83\\x04Cp9\\x83y\\xa4\\xc1\\x07E\\x03\\xa5V\\xda\\xa4a64\\xfb\\x13'\n",
      "[1, 0, 0, 1, 1, 0, 0, 0, 1, 0, 1, 1, 1, 0, 1, 0, 0, 1, 0, 1, 1, 0, 0, 0, 0, 1, 1, 0, 0, 1, 1, 1, 0, 0, 0, 1, 1, 0, 1, 1, 0, 1, 0, 0, 0, 0, 1, 0, 0, 1, 0, 1, 1, 1, 1, 1, 0, 0, 1, 0, 1, 1, 1, 1, 0, 1, 0, 0, 1, 0, 0, 0, 1, 1, 0, 1, 0, 1, 0, 0, 0, 1, 1, 1, 1, 0, 0, 1, 1, 1, 0, 0, 0, 0, 0, 1, 0, 0, 1, 0, 0, 0, 0, 0, 1, 1, 0, 0, 0, 0, 1, 0, 0, 0, 0, 0, 1, 1, 1, 0, 1, 0, 0, 1, 1, 1, 0, 0, 1, 1, 0, 0, 0, 0, 0, 1, 1, 0, 0, 1, 1, 1, 1, 0, 0, 0, 1, 0, 0, 1, 0, 1, 1, 0, 0, 0, 0, 0, 1, 1, 1, 1, 1, 0, 0, 0, 0, 0, 1, 0, 1, 0, 0, 0, 1, 0, 1, 1, 0, 0, 0, 0, 0, 0, 1, 0, 1, 0, 0, 1, 0, 1, 0, 1, 1, 0, 1, 0, 1, 0, 0, 1, 0, 1, 1, 0, 1, 1, 0, 0, 1, 0, 0, 1, 0, 1, 1, 0, 0, 0, 0, 1, 1, 0, 0, 1, 1, 0, 1, 1, 0, 0, 0, 0, 1, 0, 1, 1, 0, 0, 1, 1, 0, 1, 1, 1, 1, 1, 1, 1, 0, 0, 1, 0, 0, 0]\n",
      "True\n"
     ]
    }
   ],
   "source": [
    "F = [random.randint(0,1) for _ in range(256)]\n",
    "print(F)\n",
    "\n",
    "B = ByteEncode(F, 1)\n",
    "print(B)\n",
    "\n",
    "FF = ByteDecode(B, 1)\n",
    "print(FF)\n",
    "\n",
    "print(F == FF)\n"
   ]
  },
  {
   "cell_type": "markdown",
   "metadata": {},
   "source": [
    "#### Sampling algorithms"
   ]
  },
  {
   "cell_type": "markdown",
   "metadata": {},
   "source": [
    "Now, let's try to implement sampling algorithms $\\texttt{SampleNTT}$ and $\\texttt{SamplePolyCBD}$."
   ]
  },
  {
   "cell_type": "code",
   "execution_count": 964,
   "metadata": {},
   "outputs": [],
   "source": [
    "def SampleNTT(B):\n",
    "    shake = hashlib.shake_128()\n",
    "    shake.update(B)\n",
    "    cnt = 1\n",
    "    j = 0\n",
    "    a = [0] * 256 \n",
    "    while j<256:\n",
    "        digest = shake.digest(cnt*3)\n",
    "        C = digest[-3:]\n",
    "        d1 = C[0] + (256 * (C[1] % 16))\n",
    "        d2 = math.floor(C[1]/16) + 16*C[2]\n",
    "        if d1 < q:\n",
    "            a[j] = d1\n",
    "            j += 1\n",
    "        if d2 < q and j < 256:\n",
    "            a[j] = d2\n",
    "            j += 1\n",
    "        cnt += 1\n",
    "    return a"
   ]
  },
  {
   "cell_type": "code",
   "execution_count": 965,
   "metadata": {},
   "outputs": [
    {
     "name": "stdout",
     "output_type": "stream",
     "text": [
      "[2986, 3090, 1910, 3011, 711, 751, 235, 388, 650, 202, 2480, 381, 1594, 2251, 197, 1179, 264, 882, 2373, 1915, 257, 972, 2006, 1529, 2335, 2915, 1304, 399, 2970, 2920, 2660, 1204, 3290, 2172, 674, 244, 2928, 361, 405, 2143, 957, 2031, 2226, 3245, 668, 2098, 527, 2478, 2794, 1850, 1298, 2032, 1015, 2879, 1839, 2939, 377, 768, 156, 1831, 603, 2482, 1152, 1888, 3149, 877, 536, 460, 2509, 2861, 914, 3219, 1803, 3130, 243, 1712, 2342, 1728, 2356, 2787, 2706, 2923, 232, 1113, 1020, 1931, 3135, 735, 681, 562, 2091, 3130, 1828, 2125, 3052, 2371, 2184, 2770, 2223, 25, 2305, 362, 192, 336, 2095, 2048, 243, 2375, 1234, 427, 275, 1087, 196, 511, 534, 2225, 2379, 3026, 2154, 890, 2039, 733, 528, 2873, 2816, 435, 2395, 16, 2368, 2465, 2629, 3034, 1720, 918, 2448, 2932, 268, 3199, 2867, 68, 961, 378, 2998, 1021, 876, 447, 2779, 1362, 1736, 291, 325, 359, 320, 1729, 2504, 1263, 2208, 2703, 1810, 928, 2607, 1391, 1616, 2993, 1339, 2172, 2559, 286, 2335, 1597, 1746, 3315, 1786, 2816, 2561, 231, 2460, 2178, 645, 2526, 2731, 609, 2121, 1641, 1780, 3246, 2947, 1860, 1922, 2105, 1382, 281, 1327, 1784, 3165, 271, 3132, 1894, 2534, 675, 1763, 2349, 2154, 1292, 3311, 487, 2011, 259, 2664, 1141, 912, 1118, 134, 759, 3031, 2912, 771, 922, 932, 2258, 2468, 2019, 1841, 3202, 990, 105, 3239, 606, 2589, 653, 2154, 3074, 515, 2663, 1219, 659, 567, 2329, 3221, 369, 349, 1945, 3073, 1047, 890, 875, 1242, 1181, 519, 1121, 1647, 1337, 2427, 2043, 133, 671]\n"
     ]
    }
   ],
   "source": [
    "B = random.randbytes(34)\n",
    "a_NTT = SampleNTT(B)\n",
    "print(a_NTT)"
   ]
  },
  {
   "cell_type": "code",
   "execution_count": 966,
   "metadata": {},
   "outputs": [],
   "source": [
    "def SamplePolyCBD(B, eta):\n",
    "    b = BytesToBits(B)\n",
    "    f = [0] * 256\n",
    "    for i in range(256):\n",
    "        x = 0\n",
    "        y = 0\n",
    "        for j in range(eta):\n",
    "            x += b[2*i*eta + j]\n",
    "            y += b[2*i*eta + eta + j]\n",
    "        f[i] = x - y % q\n",
    "    return f"
   ]
  },
  {
   "cell_type": "code",
   "execution_count": 967,
   "metadata": {},
   "outputs": [
    {
     "name": "stdout",
     "output_type": "stream",
     "text": [
      "[1, -1, -1, -1, -2, 0, 0, -2, 1, -2, 1, -1, 0, -1, 0, 0, -1, 0, 0, 0, 2, -1, 1, 1, -2, 1, 1, 1, -1, 0, 1, 0, 0, 0, 0, 1, -2, 0, -1, -1, -1, -1, -2, 0, 0, 0, 0, 0, 1, 0, 0, 0, 0, 0, -2, 0, 0, 1, 1, 2, 0, -2, 0, -1, 1, 1, 0, 0, -1, 1, -1, 0, 0, -1, 0, 0, -1, 0, 2, 1, -1, 0, 1, -2, -2, 0, 0, -1, -1, -1, 1, -1, -1, -1, -1, -1, 1, -2, -2, -1, 0, 0, 0, -1, -2, 0, -1, 0, 0, 1, 1, 1, 2, 0, -1, -1, -1, 0, 0, -1, 0, 1, 2, 0, 0, 0, 2, -1, -1, -1, 0, 0, -1, 0, 0, 0, -2, 0, 1, 0, 1, -1, 0, 0, 1, 1, 1, -1, 0, 0, 1, 1, 1, 0, -1, 0, 1, 2, 0, 0, 0, 2, 0, 0, -1, 0, 2, -2, 0, -2, 1, 0, -1, 0, 1, -1, 1, 2, -1, 1, -1, -1, 0, -2, 2, -1, 0, 1, 0, -1, 0, -1, 0, -2, -2, 1, 0, -2, 0, 1, 0, -2, -1, 0, 1, -2, -1, -1, 0, 0, 0, 0, -1, -1, -1, -2, 1, 1, 0, -1, -1, 0, 1, 0, 0, -1, -2, 0, -1, 0, -1, -1, 1, -1, -1, 1, 0, -2, 0, 0, 0, 2, 0, -1, 0, 2, 1, 1, -2, 1, 0, -2, -1, 0, 0, 0]\n"
     ]
    }
   ],
   "source": [
    "eta = 2\n",
    "B = random.randbytes(64*eta)\n",
    "s = SamplePolyCBD(B, eta)\n",
    "print(s)"
   ]
  },
  {
   "cell_type": "markdown",
   "metadata": {},
   "source": [
    "### The Number-Theoric Transform"
   ]
  },
  {
   "cell_type": "code",
   "execution_count": 968,
   "metadata": {},
   "outputs": [],
   "source": [
    "# BitRev7(i)\n",
    "BitRev7 = [\n",
    "    1, 1729, 2580, 3289, 2642, 630, 1897, 848,\n",
    "    1062, 1919, 193, 797, 2786, 3260, 569, 1746,\n",
    "    296, 2447, 1339, 1476, 3046, 56, 2240, 1333,\n",
    "    1426, 2094, 535, 2882, 2393, 2879, 1974, 821,\n",
    "    289, 331, 3253, 1756, 1197, 2304, 2277, 2055,\n",
    "    650, 1977, 2513, 632, 2865, 33, 1320, 1915,\n",
    "    2319, 1435, 807, 452, 1438, 2868, 1534, 2402,\n",
    "    2647, 2617, 1481, 648, 2474, 3110, 1227, 910,\n",
    "    17, 2761, 583, 2649, 1637, 723, 2288, 1100,\n",
    "    1409, 2662, 3281, 233, 756, 2156, 3015, 3050,\n",
    "    1703, 1651, 2789, 1789, 1847, 952, 1461, 2687,\n",
    "    939, 2308, 2437, 2388, 733, 2337, 268, 641,\n",
    "    1584, 2298, 2037, 3220, 375, 2549, 2090, 1645,\n",
    "    1063, 319, 2773, 757, 2099, 561, 2466, 2594,\n",
    "    2804, 1092, 403, 1026, 1143, 2150, 2775, 886,\n",
    "    1722, 1212, 1874, 1029, 2110, 2935, 885, 2154\n",
    "]\n",
    "\n",
    "# 2*BitRev7(i) + 1\n",
    "TwoBitRev7Plus1 = [\n",
    "    17, -17, 2761, -2761, 583, -583, 2649, -2649,\n",
    "    1637, -1637, 723, -723, 2288, -2288, 1100, -1100,\n",
    "    1409, -1409, 2662, -2662, 3281, -3281, 233, -233,\n",
    "    756, -756, 2156, -2156, 3015, -3015, 3050, -3050,\n",
    "    1703, -1703, 1651, -1651, 2789, -2789, 1789, -1789,\n",
    "    1847, -1847, 952, -952, 1461, -1461, 2687, -2687,\n",
    "    939, -939, 2308, -2308, 2437, -2437, 2388, -2388,\n",
    "    733, -733, 2337, -2337, 268, -268, 641, -641,\n",
    "    1584, -1584, 2298, -2298, 2037, -2037, 3220, -3220,\n",
    "    375, -375, 2549, -2549, 2090, -2090, 1645, -1645,\n",
    "    1063, -1063, 319, -319, 2773, -2773, 757, -757,\n",
    "    2099, -2099, 561, -561, 2466, -2466, 2594, -2594,\n",
    "    2804, -2804, 1092, -1092, 403, -403, 1026, -1026,\n",
    "    1143, -1143, 2150, -2150, 2775, -2775, 886, -886,\n",
    "    1722, -1722, 1212, -1212, 1874, -1874, 1029, -1029,\n",
    "    2110, -2110, 2935, -2935, 885, -885, 2154, -2154\n",
    "]"
   ]
  },
  {
   "cell_type": "code",
   "execution_count": 969,
   "metadata": {},
   "outputs": [],
   "source": [
    "def NTT(f):\n",
    "    f_ntt = f\n",
    "    i = 1\n",
    "    length = 128\n",
    "    while length >= 2:\n",
    "        start = 0\n",
    "        while start < 256:\n",
    "            zeta = BitRev7[i] % q\n",
    "            i += 1\n",
    "            for j in range(start, start+length, 1):\n",
    "                t = (zeta * f_ntt[j+length]) % q\n",
    "                f_ntt[j+length] = (f_ntt[j] - t) % q\n",
    "                f_ntt[j] = (f_ntt[j] + t) % q\n",
    "            start += 2*length\n",
    "        length //= 2 \n",
    "    return f_ntt\n",
    "\n",
    "def inv_NTT(f_ntt):\n",
    "    f = f_ntt\n",
    "    i = 127\n",
    "    length = 2\n",
    "    while length <= 128:\n",
    "        start = 0\n",
    "        while start < 256:\n",
    "            zeta = BitRev7[i] % q\n",
    "            i -= 1\n",
    "            for j in range(start, start+length, 1):\n",
    "                t = f[j] % q\n",
    "                f[j] = (t + f[j+length]) % q\n",
    "                f[j+length] = (zeta * (f[j+length]-t)) % q\n",
    "            start += 2*length \n",
    "        length *= 2\n",
    "    for i in range(256):\n",
    "        f[i] = (f[i]*3303) % q\n",
    "    return f"
   ]
  },
  {
   "cell_type": "code",
   "execution_count": 970,
   "metadata": {},
   "outputs": [
    {
     "name": "stdout",
     "output_type": "stream",
     "text": [
      "f = [1, -1, -1, -1, -2, 0, 0, -2, 1, -2, 1, -1, 0, -1, 0, 0, -1, 0, 0, 0, 2, -1, 1, 1, -2, 1, 1, 1, -1, 0]\n",
      "f_ntt = [438, 439, 908, 1968, 2531, 1697, 1522, 670, 635, 1916, 593, 1835, 1781, 3046, 3130, 1010, 504, 484, 1654, 2035, 321, 2920, 2251, 774, 2049, 693, 583, 116, 2036, 1494]\n",
      "ff = [1, 3328, 3328, 3328, 3327, 0, 0, 3327, 1, 3327, 1, 3328, 0, 3328, 0, 0, 3328, 0, 0, 0, 2, 3328, 1, 1, 3327, 1, 1, 1, 3328, 0]\n"
     ]
    }
   ],
   "source": [
    "f = SamplePolyCBD(B, eta)\n",
    "print(\"f =\", f[:30])\n",
    "\n",
    "f_ntt = NTT(f)\n",
    "print(\"f_ntt =\", f_ntt[:30])\n",
    "\n",
    "ff = inv_NTT(f_ntt)\n",
    "print(\"ff =\", ff[:30])"
   ]
  },
  {
   "cell_type": "code",
   "execution_count": 971,
   "metadata": {},
   "outputs": [],
   "source": [
    "def BaseCaseMultiply(a0, a1, b0, b1, gamma):\n",
    "    c = [0] * 2\n",
    "    c[0] = (a0*b0 + a1*b1*gamma) % q\n",
    "    c[1] = (a0*b1 + a1*b0) % q\n",
    "    return c\n",
    "\n",
    "def MultiplyNTTs(f, g):\n",
    "    h = [0] * 256\n",
    "    for i in range(128):\n",
    "        h[2*i],h[2*i+1] = BaseCaseMultiply(f[2*i], f[2*i+1], g[2*i], g[2*i+1], TwoBitRev7Plus1[i])\n",
    "    return h"
   ]
  },
  {
   "cell_type": "code",
   "execution_count": 972,
   "metadata": {},
   "outputs": [
    {
     "name": "stdout",
     "output_type": "stream",
     "text": [
      "c = [1325, 1663, 135, 1430, 1437, 3244, 1509, 2649, 2278, 2482, 1834, 2122, 2044, 627, 393, 2756, 1193, 420, 2419, 510, 542, 2231, 501, 2822, 2329, 2085, 656, 1513, 1450, 1500, 3164, 1475, 2202, 3218, 2628, 1994, 1625, 335, 3193, 3310, 2074, 607, 828, 1899, 553, 1233, 2592, 1962, 486, 1721, 1818, 2588, 1783, 628, 2110, 2211, 2970, 542, 64, 1056, 1464, 763, 185, 1455, 3289, 1036, 2320, 525, 2740, 3326, 1246, 1003, 800, 3109, 342, 785, 107, 526, 604, 1096, 3081, 288, 1766, 2179, 917, 1905, 1057, 3094, 1705, 3094, 3031, 1780, 734, 3091, 2401, 1383, 2939, 1359, 1651, 2404, 988, 1130, 2697, 1136, 2996, 1531, 1012, 1547, 1828, 317, 577, 1201, 2478, 780, 1347, 398, 2284, 2002, 405, 2114, 1554, 1147, 1631, 2199, 3047, 37, 1427, 1362, 905, 597, 2165, 1946, 594, 2032, 665, 1363, 289, 2064, 3282, 3250, 396, 1030, 3095, 916, 3073, 1443, 1044, 1142, 1222, 1847, 2719, 2955, 2694, 1596, 1716, 871, 1918, 1467, 2226, 2932, 2722, 2207, 2379, 2432, 610, 2857, 1794, 2096, 2374, 692, 2782, 2102, 71, 1817, 499, 2319, 3232, 501, 2314, 273, 2954, 1912, 2786, 2740, 2934, 407, 1454, 1064, 2128, 2009, 2424, 388, 2465, 844, 1876, 758, 3277, 2685, 2202, 2601, 2605, 1672, 2034, 3239, 2395, 957, 2538, 1323, 807, 2566, 481, 484, 1057, 796, 889, 186, 3178, 604, 2381, 439, 704, 2143, 1798, 3070, 1409, 2491, 1893, 3263, 2150, 708, 2769, 2364, 2906, 2847, 1739, 1897, 540, 2936, 2283, 2653, 1215, 2102, 228, 2432, 929, 3066, 90, 301, 106, 2883, 1697, 1634, 871, 1660, 1763, 628]\n"
     ]
    }
   ],
   "source": [
    "B = random.randbytes(34)\n",
    "a = SampleNTT(B)\n",
    "\n",
    "B = random.randbytes(34)\n",
    "b = SampleNTT(B)\n",
    "\n",
    "c = MultiplyNTTs(a, b)\n",
    "print(\"c =\", c)"
   ]
  },
  {
   "cell_type": "markdown",
   "metadata": {},
   "source": [
    "## The K-PKE Compopnent Scheme\n",
    "\n",
    "Implementation of the internal PKE algorithms $\\texttt{K-PKE.KeyGen}$, $\\texttt{K-PKE.Encrypt}$ and $\\texttt{K-PKE.Decrypt}$."
   ]
  },
  {
   "cell_type": "code",
   "execution_count": 973,
   "metadata": {},
   "outputs": [],
   "source": [
    "def AddPolynomials(a, b):\n",
    "     return [(a[i] + b[i]) % q for i in range(256)]\n",
    "\n",
    "def SubPolynomials(a, b):\n",
    "     return [(a[i] - b[i]) % q for i in range(256)]"
   ]
  },
  {
   "cell_type": "code",
   "execution_count": 974,
   "metadata": {},
   "outputs": [],
   "source": [
    "def PKE_KeyGen(d):\n",
    "    rho, sigma = G(d + bytes([k]))\n",
    "\n",
    "    N = 0\n",
    "    A_ntt = [[0] * k for _ in range(k)]\n",
    "    for i in range(k):\n",
    "        for j in range(k):\n",
    "            A_ntt[i][j] = SampleNTT(rho + bytes([j]) + bytes([i]))\n",
    "    \n",
    "    s_ntt = [0] * k\n",
    "    for i in range(k):\n",
    "        s = SamplePolyCBD(PRF(sigma, bytes([N]), eta1), eta1)\n",
    "        s_ntt[i] = NTT(s)\n",
    "        N += 1\n",
    "\n",
    "    e_ntt = [0] * k\n",
    "    for i in range(k):\n",
    "        e = SamplePolyCBD(PRF(sigma, bytes([N]), eta1), eta1)\n",
    "        e_ntt[i] = NTT(e)\n",
    "        N += 1\n",
    "\n",
    "    t_ntt = [0] * k\n",
    "    for i in range(k):\n",
    "        sum = [0] * 256\n",
    "        for j in range(k):\n",
    "            prod = MultiplyNTTs(A_ntt[i][j], s_ntt[j])\n",
    "            sum = AddPolynomials(sum, prod)\n",
    "        t_ntt[i] = AddPolynomials(sum, e_ntt[i])\n",
    "\n",
    "    ek_pke = b\"\"\n",
    "    dk_pke = b\"\"\n",
    "    for i in range(k):\n",
    "        ek_pke += ByteEncode(t_ntt[i], 12)\n",
    "        dk_pke += ByteEncode(s_ntt[i], 12)\n",
    "    ek_pke += rho\n",
    "    return ek_pke, dk_pke"
   ]
  },
  {
   "cell_type": "code",
   "execution_count": 975,
   "metadata": {},
   "outputs": [
    {
     "data": {
      "text/plain": [
       "768"
      ]
     },
     "execution_count": 975,
     "metadata": {},
     "output_type": "execute_result"
    }
   ],
   "source": [
    "d = random.randbytes(32)\n",
    "ek_pke, dk_pke = PKE_KeyGen(d)\n",
    "len(dk_pke)"
   ]
  },
  {
   "cell_type": "code",
   "execution_count": 976,
   "metadata": {},
   "outputs": [],
   "source": [
    "def PKE_Encrypt(ek_pke, m, r):\n",
    "    N = 0\n",
    "    t_ntt = [0] * k\n",
    "    for i in range(k):\n",
    "        t_ntt[i] = ByteDecode(ek_pke[384*i : 384*i + 384], 12)\n",
    "    \n",
    "    rho = ek_pke[384*k :]\n",
    "\n",
    "    A_ntt = [[0] * k for _ in range(k)]\n",
    "    for i in range(k):\n",
    "        for j in range(k):\n",
    "            A_ntt[i][j] = SampleNTT(rho + bytes([j]) + bytes([i]))\n",
    "\n",
    "    y_ntt = [0] * k\n",
    "    for i in range(k):\n",
    "        y = SamplePolyCBD(PRF(r, bytes([N]), eta1), eta1)\n",
    "        y_ntt[i] = NTT(y)\n",
    "        N += 1\n",
    "\n",
    "    e1 = [0] * k\n",
    "    for i in range(k):\n",
    "        e1[i] = SamplePolyCBD(PRF(r, bytes([N]), eta2), eta2)\n",
    "        N += 1\n",
    "\n",
    "    e2 = SamplePolyCBD(PRF(r, bytes([N]), eta2), eta2)\n",
    "    \n",
    "    u = [0] * k\n",
    "    for i in range(k):\n",
    "        sum_ntt = [0] * 256\n",
    "        for j in range(k):\n",
    "            prod = MultiplyNTTs(A_ntt[j][i], y_ntt[j]) # transpose A good?\n",
    "            sum_ntt = AddPolynomials(sum_ntt, prod)\n",
    "        u[i] = AddPolynomials(inv_NTT(sum_ntt), e1[i])\n",
    "\n",
    "    mu = [0] * 256\n",
    "    m_decode = ByteDecode(m, 1)\n",
    "    for i in range(256):\n",
    "        mu[i] = decompress(m_decode[i], 1)\n",
    "    \n",
    "    sum_ntt = [0] * 256\n",
    "    for i in range(k):\n",
    "        prod = MultiplyNTTs(t_ntt[i], y_ntt[i])\n",
    "        sum_ntt = AddPolynomials(sum_ntt, prod)\n",
    "    v = AddPolynomials(inv_NTT(sum_ntt), e2)\n",
    "    v = AddPolynomials(v, mu)\n",
    "\n",
    "    c1 = b\"\"\n",
    "    for i in range(k):\n",
    "        u_compress = [0] * 256\n",
    "        for j in range(256):\n",
    "            u_compress[j] = compress(u[i][j], du)\n",
    "        c1 += ByteEncode(u_compress, du)\n",
    "    \n",
    "    \n",
    "    v_compress = [0] * 256\n",
    "    for i in range(256):\n",
    "        v_compress[i] = compress(v[i], dv)\n",
    "    c2 = ByteEncode(v_compress, dv)\n",
    "\n",
    "    return c1 + c2"
   ]
  },
  {
   "cell_type": "code",
   "execution_count": 977,
   "metadata": {},
   "outputs": [],
   "source": [
    "m = random.randbytes(32)\n",
    "r = random.randbytes(32)\n",
    "\n",
    "c = PKE_Encrypt(ek_pke, m, r)"
   ]
  },
  {
   "cell_type": "code",
   "execution_count": 978,
   "metadata": {},
   "outputs": [
    {
     "data": {
      "text/plain": [
       "768"
      ]
     },
     "execution_count": 978,
     "metadata": {},
     "output_type": "execute_result"
    }
   ],
   "source": [
    "len(c)"
   ]
  },
  {
   "cell_type": "code",
   "execution_count": 979,
   "metadata": {},
   "outputs": [],
   "source": [
    "def PKE_Decrypt(dk_pke, c):\n",
    "    c1 = c[:32*du*k]\n",
    "    c2 = c[32*du*k:]\n",
    "\n",
    "    u_prime = [[0] * 256 for _ in range(k)]\n",
    "    for i in range(k):\n",
    "        c1_decode = ByteDecode(c1[32*du*i : 32*du*i + 32*du], du)\n",
    "        for j in range(256):\n",
    "            u_prime[i][j] = decompress(c1_decode[j], du)\n",
    "    \n",
    "    v_prime = [0] * 256\n",
    "    c2_decode = ByteDecode(c2, dv)\n",
    "    for i in range(256):\n",
    "        v_prime[i] = decompress(c2_decode[i], dv)\n",
    "\n",
    "    s_ntt = [0] * k\n",
    "    for i in range(k):\n",
    "        s_ntt[i] = ByteDecode(dk_pke[384*i : 384*i + 384], 12)\n",
    "\n",
    "    u_prime_ntt = [0] * k \n",
    "    for i in range(k):\n",
    "        u_prime_ntt[i] = NTT(u_prime[i])\n",
    "\n",
    "    sum_ntt = [0] * 256\n",
    "    for i in range(k):\n",
    "        m = MultiplyNTTs(s_ntt[i], u_prime_ntt[i])\n",
    "        sum_ntt = AddPolynomials(sum_ntt, m)\n",
    "    omega = SubPolynomials(v_prime, inv_NTT(sum_ntt))\n",
    "\n",
    "    omega_compress = [0] * 256\n",
    "    for i in range(256):\n",
    "        omega_compress[i] = compress(omega[i], 1)\n",
    "    m = ByteEncode(omega_compress, 1)\n",
    "\n",
    "    return m"
   ]
  },
  {
   "cell_type": "code",
   "execution_count": 980,
   "metadata": {},
   "outputs": [],
   "source": [
    "m_decrypt = PKE_Decrypt(dk_pke, c)"
   ]
  },
  {
   "cell_type": "code",
   "execution_count": 981,
   "metadata": {},
   "outputs": [
    {
     "data": {
      "text/plain": [
       "True"
      ]
     },
     "execution_count": 981,
     "metadata": {},
     "output_type": "execute_result"
    }
   ],
   "source": [
    "m == m_decrypt"
   ]
  },
  {
   "cell_type": "markdown",
   "metadata": {},
   "source": [
    "## Main Internal Algorithms\n",
    "\n",
    "Implementation of the internal algorithms $\\texttt{ML-KEM.KeyGen\\_internal}$, $\\texttt{ML-KEM.Encaps\\_internal}$ and $\\texttt{ML-KEM.Decaps\\_internal}$."
   ]
  },
  {
   "cell_type": "code",
   "execution_count": 982,
   "metadata": {},
   "outputs": [],
   "source": [
    "def KEM_KeyGen_internal(d, z):\n",
    "    ek_pke, dk_pke = PKE_KeyGen(d)\n",
    "    ek = ek_pke\n",
    "    dk = dk_pke + ek + H(ek) + z\n",
    "    return ek, dk"
   ]
  },
  {
   "cell_type": "code",
   "execution_count": 983,
   "metadata": {},
   "outputs": [],
   "source": [
    "d = random.randbytes(32)\n",
    "z = random.randbytes(32)\n",
    "\n",
    "ek, dk = KEM_KeyGen_internal(d, z)"
   ]
  },
  {
   "cell_type": "code",
   "execution_count": 984,
   "metadata": {},
   "outputs": [
    {
     "data": {
      "text/plain": [
       "1632"
      ]
     },
     "execution_count": 984,
     "metadata": {},
     "output_type": "execute_result"
    }
   ],
   "source": [
    "len(dk) # 384k + (384k + 32) + 32 + 32"
   ]
  },
  {
   "cell_type": "code",
   "execution_count": 985,
   "metadata": {},
   "outputs": [],
   "source": [
    "def KEM_Encaps_internal(ek, m):\n",
    "    K, r = G(m + H(ek))\n",
    "    c = PKE_Encrypt(ek, m, r)\n",
    "    return K, c"
   ]
  },
  {
   "cell_type": "code",
   "execution_count": 986,
   "metadata": {},
   "outputs": [],
   "source": [
    "m = random.randbytes(32)\n",
    "K, c = KEM_Encaps_internal(ek, m)"
   ]
  },
  {
   "cell_type": "code",
   "execution_count": 987,
   "metadata": {},
   "outputs": [],
   "source": [
    "def KEM_Decaps_internal(dk, c):\n",
    "    dk_pke = dk[0 : 384*k]\n",
    "    ek_pke = dk[384*k : 768*k+32]\n",
    "    h = dk[768*k+32 : 768*k+64]\n",
    "    z = dk[768*k+64 : 768*k+96]\n",
    "\n",
    "    m_prime = PKE_Decrypt(dk_pke, c)\n",
    "    K_prime, r_prime = G(m_prime + h)\n",
    "\n",
    "    K_bar = J(z + c)\n",
    "    c_prime = PKE_Encrypt(ek_pke, m_prime, r_prime)\n",
    "    \n",
    "    if c_prime != c:\n",
    "        K_prime = K_bar\n",
    "    return K_prime"
   ]
  },
  {
   "cell_type": "code",
   "execution_count": 988,
   "metadata": {},
   "outputs": [],
   "source": [
    "K_prime = KEM_Decaps_internal(dk, c)"
   ]
  },
  {
   "cell_type": "code",
   "execution_count": 989,
   "metadata": {},
   "outputs": [
    {
     "data": {
      "text/plain": [
       "True"
      ]
     },
     "execution_count": 989,
     "metadata": {},
     "output_type": "execute_result"
    }
   ],
   "source": [
    "K == K_prime"
   ]
  },
  {
   "cell_type": "markdown",
   "metadata": {},
   "source": [
    "## ML-KEM Key-Encapsulation Mechanism\n",
    "\n",
    "Implementation of the three main algorithms of the ML-KEM scheme $\\texttt{ML-KEM.KeyGen}$, $\\texttt{ML-KEM.Encaps}$ and $\\texttt{ML-KEM.Decaps}$"
   ]
  },
  {
   "cell_type": "code",
   "execution_count": 990,
   "metadata": {},
   "outputs": [],
   "source": [
    "def KEM_KeyGen():\n",
    "    d = random.randbytes(32)\n",
    "    z = random.randbytes(32)\n",
    "    if d is None or z is None:\n",
    "        return None\n",
    "    ek, dk = KEM_KeyGen_internal(d, z) \n",
    "    return ek, dk"
   ]
  },
  {
   "cell_type": "code",
   "execution_count": 991,
   "metadata": {},
   "outputs": [],
   "source": [
    "def KEM_Encaps(ek):\n",
    "    m = random.randbytes(32)\n",
    "    if m is None:\n",
    "        return None\n",
    "    K,c = KEM_Encaps_internal(ek, m)\n",
    "    return K, c"
   ]
  },
  {
   "cell_type": "code",
   "execution_count": 992,
   "metadata": {},
   "outputs": [],
   "source": [
    "def KEM_Decaps(dk, c):\n",
    "    K_prime = KEM_Decaps_internal(dk, c)\n",
    "    return K_prime"
   ]
  },
  {
   "cell_type": "markdown",
   "metadata": {},
   "source": [
    "# Testing"
   ]
  },
  {
   "cell_type": "code",
   "execution_count": 999,
   "metadata": {},
   "outputs": [
    {
     "data": {
      "text/plain": [
       "True"
      ]
     },
     "execution_count": 999,
     "metadata": {},
     "output_type": "execute_result"
    }
   ],
   "source": [
    "n = 256\n",
    "q = 3329\n",
    "\n",
    "# ML-KEM-1024 parameters\n",
    "k = 4\n",
    "eta1 = 2\n",
    "eta2 = 2\n",
    "du = 11\n",
    "dv = 5\n",
    "\n",
    "ek, dk = KEM_KeyGen()\n",
    "K, c = KEM_Encaps(ek)\n",
    "K_prime = KEM_Decaps(dk, c)\n",
    "\n",
    "K == K_prime"
   ]
  },
  {
   "cell_type": "code",
   "execution_count": null,
   "metadata": {},
   "outputs": [],
   "source": []
  }
 ],
 "metadata": {
  "kernelspec": {
   "display_name": "SageMath 10.5",
   "language": "sage",
   "name": "SageMath-10.5"
  },
  "language_info": {
   "codemirror_mode": {
    "name": "ipython",
    "version": 3
   },
   "file_extension": ".py",
   "mimetype": "text/x-python",
   "name": "python",
   "nbconvert_exporter": "python",
   "pygments_lexer": "ipython3",
   "version": "3.12.5"
  }
 },
 "nbformat": 4,
 "nbformat_minor": 2
}
